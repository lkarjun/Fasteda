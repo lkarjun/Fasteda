{
 "cells": [
  {
   "cell_type": "code",
   "execution_count": 1,
   "metadata": {},
   "outputs": [],
   "source": [
    "from fastwork import start_from_jupyter, start"
   ]
  },
  {
   "cell_type": "code",
   "execution_count": 2,
   "metadata": {},
   "outputs": [],
   "source": [
    "path = 'static/dataset/cars.csv'\n",
    "start_from_jupyter()"
   ]
  },
  {
   "cell_type": "code",
   "execution_count": 3,
   "metadata": {},
   "outputs": [
    {
     "output_type": "stream",
     "name": "stderr",
     "text": [
      "INFO:     Started server process [14676]\n",
      "INFO:     Waiting for application startup.\n",
      "INFO:     Application startup complete.\n",
      "INFO:     Uvicorn running on http://127.0.0.1:8000 (Press CTRL+C to quit)\n",
      "Univariate Analysing: 100%|██████████| 12/12 [00:00<00:00, 28.30it/s]\n",
      "INFO:     127.0.0.1:49905 - \"GET / HTTP/1.1\" 200 OK\n",
      "INFO:     127.0.0.1:49905 - \"GET /static/js/main.js HTTP/1.1\" 304 Not Modified\n",
      "INFO:     127.0.0.1:49905 - \"GET /static/Images/logo.svg HTTP/1.1\" 200 OK\n",
      "Univariate Analysing: 100%|██████████| 12/12 [00:00<00:00, 68.18it/s]\n",
      "INFO:     127.0.0.1:49905 - \"GET / HTTP/1.1\" 200 OK\n",
      "INFO:     127.0.0.1:49905 - \"GET /static/Images/logo.svg HTTP/1.1\" 200 OK\n",
      "INFO:     Shutting down\n",
      "INFO:     Waiting for application shutdown.\n",
      "INFO:     Application shutdown complete.\n",
      "INFO:     Finished server process [14676]\n"
     ]
    }
   ],
   "source": [
    "start(path)"
   ]
  },
  {
   "cell_type": "code",
   "execution_count": null,
   "metadata": {},
   "outputs": [],
   "source": []
  }
 ],
 "metadata": {
  "kernelspec": {
   "name": "python395jvsc74a57bd03ceca350e8e19073432594fb908584560a1ca3713b54a32798c21cc428ed0074",
   "display_name": "Python 3.9.5 64-bit ('Project-Eda-sukngV1Q': virtualenvwrapper)"
  },
  "language_info": {
   "codemirror_mode": {
    "name": "ipython",
    "version": 3
   },
   "file_extension": ".py",
   "mimetype": "text/x-python",
   "name": "python",
   "nbconvert_exporter": "python",
   "pygments_lexer": "ipython3",
   "version": "3.9.5"
  },
  "metadata": {
   "interpreter": {
    "hash": "3ceca350e8e19073432594fb908584560a1ca3713b54a32798c21cc428ed0074"
   }
  }
 },
 "nbformat": 4,
 "nbformat_minor": 5
}
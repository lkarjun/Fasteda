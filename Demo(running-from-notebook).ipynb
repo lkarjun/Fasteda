{
 "cells": [
  {
   "source": [
    "# Fasteda from a notebook"
   ],
   "cell_type": "markdown",
   "metadata": {}
  },
  {
   "source": [
    "### Runing from a local notebook"
   ],
   "cell_type": "markdown",
   "metadata": {}
  },
  {
   "cell_type": "code",
   "execution_count": 7,
   "metadata": {},
   "outputs": [],
   "source": [
    "from Fasteda.fastwork import run_from_notebook, start"
   ]
  },
  {
   "cell_type": "code",
   "execution_count": 17,
   "metadata": {},
   "outputs": [],
   "source": [
    "# path to the sample dataset\n",
    "path = 'Fasteda/static/dataset/sample.csv'"
   ]
  },
  {
   "cell_type": "code",
   "execution_count": 18,
   "metadata": {},
   "outputs": [],
   "source": [
    "# first we need to run the run_from_notebook()\n",
    "run_from_notebook()"
   ]
  },
  {
   "cell_type": "code",
   "execution_count": 19,
   "metadata": {},
   "outputs": [
    {
     "output_type": "stream",
     "name": "stdout",
     "text": [
      "Visit: http://127.0.0.1:8000\n",
      "Global Filedetail seting\n",
      "Global Filedetail seted\n",
      "INFO:     Started server process [13116]\n",
      "INFO:     Waiting for application startup.\n",
      "INFO:     Application startup complete.\n",
      "INFO:     Uvicorn running on http://127.0.0.1:8000 (Press CTRL+C to quit)\n",
      "Univariate Analysing: 100%|██████████| 4/4 [00:00<00:00, 41.69it/s]\n",
      "INFO:     127.0.0.1:51031 - \"GET / HTTP/1.1\" 200 OK\n",
      "Univariate Analysing: 100%|██████████| 4/4 [00:00<00:00, 58.07it/s]Okag value\n",
      "finished\n",
      "INFO:     127.0.0.1:51031 - \"GET /drop?data=value HTTP/1.1\" 200 OK\n",
      "\n",
      "Univariate Analysing: 100%|██████████| 4/4 [00:00<00:00, 25.94it/s]\n",
      "INFO:     127.0.0.1:51031 - \"GET / HTTP/1.1\" 200 OK\n",
      "INFO:     127.0.0.1:51031 - \"GET /static/Images/logo.svg HTTP/1.1\" 200 OK\n",
      "INFO:     Shutting down\n",
      "INFO:     Waiting for application shutdown.\n",
      "INFO:     Application shutdown complete.\n",
      "INFO:     Finished server process [13116]\n"
     ]
    }
   ],
   "source": [
    "# stat server\n",
    "start(path, dm=',', port=8000)"
   ]
  },
  {
   "cell_type": "code",
   "execution_count": null,
   "metadata": {},
   "outputs": [],
   "source": []
  },
  {
   "source": [
    "### Runing from a cloud notebook -> (colab)"
   ],
   "cell_type": "markdown",
   "metadata": {}
  },
  {
   "cell_type": "code",
   "execution_count": null,
   "metadata": {},
   "outputs": [],
   "source": [
    "from Fasteda.fastworkrun_from_notebook, start_from_cloud"
   ]
  },
  {
   "cell_type": "code",
   "execution_count": null,
   "metadata": {},
   "outputs": [],
   "source": [
    "# path to the sample dataset\n",
    "path = 'static/dataset/cars.csv'"
   ]
  },
  {
   "cell_type": "code",
   "execution_count": null,
   "metadata": {},
   "outputs": [],
   "source": [
    "# first we need to run the run_from_notebook()\n",
    "run_from_notebook()"
   ]
  },
  {
   "cell_type": "code",
   "execution_count": null,
   "metadata": {},
   "outputs": [],
   "source": [
    "start_from_cloud(path, ',', port=8000)"
   ]
  }
 ],
 "metadata": {
  "kernelspec": {
   "name": "python395jvsc74a57bd03ceca350e8e19073432594fb908584560a1ca3713b54a32798c21cc428ed0074",
   "display_name": "Python 3.9.5 64-bit ('Project-Eda-sukngV1Q': pipenv)"
  },
  "language_info": {
   "codemirror_mode": {
    "name": "ipython",
    "version": 3
   },
   "file_extension": ".py",
   "mimetype": "text/x-python",
   "name": "python",
   "nbconvert_exporter": "python",
   "pygments_lexer": "ipython3",
   "version": "3.9.5"
  },
  "metadata": {
   "interpreter": {
    "hash": "3ceca350e8e19073432594fb908584560a1ca3713b54a32798c21cc428ed0074"
   }
  }
 },
 "nbformat": 4,
 "nbformat_minor": 5
}
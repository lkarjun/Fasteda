{
  "nbformat": 4,
  "nbformat_minor": 5,
  "metadata": {
    "kernelspec": {
      "name": "python395jvsc74a57bd03ceca350e8e19073432594fb908584560a1ca3713b54a32798c21cc428ed0074",
      "display_name": "Python 3.9.5 64-bit ('Project-Eda-sukngV1Q': pipenv)"
    },
    "language_info": {
      "codemirror_mode": {
        "name": "ipython",
        "version": 3
      },
      "file_extension": ".py",
      "mimetype": "text/x-python",
      "name": "python",
      "nbconvert_exporter": "python",
      "pygments_lexer": "ipython3",
      "version": "3.9.5"
    },
    "metadata": {
      "interpreter": {
        "hash": "3ceca350e8e19073432594fb908584560a1ca3713b54a32798c21cc428ed0074"
      }
    },
    "colab": {
      "name": "Demo(running-from-notebook).ipynb",
      "provenance": [],
      "include_colab_link": true
    }
  },
  "cells": [
    {
      "cell_type": "markdown",
      "metadata": {
        "id": "view-in-github",
        "colab_type": "text"
      },
      "source": [
        "<a href=\"https://colab.research.google.com/github/lkarjun/fastpreprocess/blob/package/Demo(running-from-notebook).ipynb\" target=\"_parent\"><img src=\"https://colab.research.google.com/assets/colab-badge.svg\" alt=\"Open In Colab\"/></a>"
      ]
    },
    {
      "cell_type": "code",
      "metadata": {
        "colab": {
          "base_uri": "https://localhost:8080/"
        },
        "id": "ABxXfXvVn1fF",
        "outputId": "83d11021-af80-46bc-94b7-36fb2c1f581c"
      },
      "source": [
        "!git clone -b package https://github.com/lkarjun/fastpreprocess.git"
      ],
      "id": "ABxXfXvVn1fF",
      "execution_count": 1,
      "outputs": [
        {
          "output_type": "stream",
          "text": [
            "Cloning into 'fastpreprocess'...\n",
            "remote: Enumerating objects: 900, done.\u001b[K\n",
            "remote: Counting objects: 100% (900/900), done.\u001b[K\n",
            "remote: Compressing objects: 100% (494/494), done.\u001b[K\n",
            "remote: Total 900 (delta 515), reused 748 (delta 380), pack-reused 0\u001b[K\n",
            "Receiving objects: 100% (900/900), 3.16 MiB | 10.96 MiB/s, done.\n",
            "Resolving deltas: 100% (515/515), done.\n"
          ],
          "name": "stdout"
        }
      ]
    },
    {
      "cell_type": "code",
      "metadata": {
        "colab": {
          "base_uri": "https://localhost:8080/",
          "height": 35
        },
        "id": "SL1oMxNcunyy",
        "outputId": "1ea653cd-f139-473b-9de0-9a4d17e53485"
      },
      "source": [
        "import shutil\n",
        "shutil.move(\"fastpreprocess/fastprocess\", \"/content\")\n",
        "shutil.move(\"fastpreprocess/requirements.txt\", \"/content\")"
      ],
      "id": "SL1oMxNcunyy",
      "execution_count": 2,
      "outputs": [
        {
          "output_type": "execute_result",
          "data": {
            "application/vnd.google.colaboratory.intrinsic+json": {
              "type": "string"
            },
            "text/plain": [
              "'/content/requirements.txt'"
            ]
          },
          "metadata": {
            "tags": []
          },
          "execution_count": 2
        }
      ]
    },
    {
      "cell_type": "code",
      "metadata": {
        "id": "N3HVbkg0uitJ"
      },
      "source": [
        "!pip install -r requirements.txt"
      ],
      "id": "N3HVbkg0uitJ",
      "execution_count": null,
      "outputs": []
    },
    {
      "cell_type": "markdown",
      "metadata": {
        "id": "YzBJ9zELnzhr"
      },
      "source": [
        "# Fasteda from a notebook"
      ],
      "id": "YzBJ9zELnzhr"
    },
    {
      "cell_type": "markdown",
      "metadata": {
        "id": "eu_TSi2unzhv"
      },
      "source": [
        "### Runing from a local notebook"
      ],
      "id": "eu_TSi2unzhv"
    },
    {
      "cell_type": "code",
      "metadata": {
        "id": "qO0VTnTQnzhv"
      },
      "source": [
        "from fastprocess.fastwork import run_from_notebook, start"
      ],
      "id": "qO0VTnTQnzhv",
      "execution_count": 11,
      "outputs": []
    },
    {
      "cell_type": "code",
      "metadata": {
        "id": "sF_rbc93nzhw"
      },
      "source": [
        "# path to the sample dataset\n",
        "path = 'fastprocess/static/dataset/sample.csv'"
      ],
      "id": "sF_rbc93nzhw",
      "execution_count": 15,
      "outputs": []
    },
    {
      "cell_type": "code",
      "metadata": {
        "id": "EECaylqFnzhx"
      },
      "source": [
        "# first we need to run the run_from_notebook()\n",
        "run_from_notebook()"
      ],
      "id": "EECaylqFnzhx",
      "execution_count": 16,
      "outputs": []
    },
    {
      "cell_type": "code",
      "metadata": {
        "colab": {
          "base_uri": "https://localhost:8080/"
        },
        "id": "_-Osma4znzhx",
        "outputId": "c4bfda46-c054-44ec-a920-0a14fb65f8bf"
      },
      "source": [
        "# stat server\n",
        "start(path, dm=',', port=8000)"
      ],
      "id": "_-Osma4znzhx",
      "execution_count": 17,
      "outputs": [
        {
          "output_type": "stream",
          "text": [
            "Visit: http://127.0.0.1:8000\n",
            "Global Filedetail Processing\n",
            "Global Filedetail Fixed\n"
          ],
          "name": "stdout"
        },
        {
          "output_type": "stream",
          "text": [
            "INFO:     Started server process [59]\n",
            "INFO:     Waiting for application startup.\n",
            "INFO:     Application startup complete.\n",
            "INFO:     Uvicorn running on http://127.0.0.1:8000 (Press CTRL+C to quit)\n",
            "INFO:     Shutting down\n",
            "INFO:     Waiting for application shutdown.\n",
            "INFO:     Application shutdown complete.\n",
            "INFO:     Finished server process [59]\n"
          ],
          "name": "stderr"
        }
      ]
    },
    {
      "cell_type": "code",
      "metadata": {
        "id": "7su0vmxOnzhy"
      },
      "source": [
        ""
      ],
      "id": "7su0vmxOnzhy",
      "execution_count": null,
      "outputs": []
    },
    {
      "cell_type": "markdown",
      "metadata": {
        "id": "YGvYi3cknzhy"
      },
      "source": [
        "### Runing from a cloud notebook -> (colab)"
      ],
      "id": "YGvYi3cknzhy"
    },
    {
      "cell_type": "code",
      "metadata": {
        "id": "jTCUJdbinzhy"
      },
      "source": [
        "from fastprocess.fastwork import run_from_notebook, start_from_cloud"
      ],
      "id": "jTCUJdbinzhy",
      "execution_count": 18,
      "outputs": []
    },
    {
      "cell_type": "code",
      "metadata": {
        "id": "WaOKhXvYnzhz"
      },
      "source": [
        "# path to the sample dataset\n",
        "path = 'fastprocess/static/dataset/sample.csv'"
      ],
      "id": "WaOKhXvYnzhz",
      "execution_count": 19,
      "outputs": []
    },
    {
      "cell_type": "code",
      "metadata": {
        "id": "mXYIICtenzhz"
      },
      "source": [
        "# first we need to run the run_from_notebook()\n",
        "run_from_notebook()"
      ],
      "id": "mXYIICtenzhz",
      "execution_count": 20,
      "outputs": []
    },
    {
      "cell_type": "code",
      "metadata": {
        "colab": {
          "base_uri": "https://localhost:8080/"
        },
        "id": "QTYm56nUnzh0",
        "outputId": "6eb673fb-65f9-425d-c02b-40dcc289e82b"
      },
      "source": [
        "start_from_cloud(port=9000)"
      ],
      "id": "QTYm56nUnzh0",
      "execution_count": 21,
      "outputs": [
        {
          "output_type": "stream",
          "text": [
            "Visit: http://ab0b547c51b8.ngrok.io/index\n"
          ],
          "name": "stdout"
        },
        {
          "output_type": "stream",
          "text": [
            "INFO:     Started server process [59]\n",
            "INFO:     Waiting for application startup.\n",
            "INFO:     Application startup complete.\n",
            "INFO:     Uvicorn running on http://127.0.0.1:9000 (Press CTRL+C to quit)\n"
          ],
          "name": "stderr"
        },
        {
          "output_type": "stream",
          "text": [
            "INFO:     2409:4073:4e02:4f35:1c47:efa0:8452:c8ad:0 - \"GET /index HTTP/1.1\" 200 OK\n",
            "INFO:     2409:4073:4e02:4f35:1c47:efa0:8452:c8ad:0 - \"GET /static/css/style.css HTTP/1.1\" 200 OK\n",
            "INFO:     2409:4073:4e02:4f35:1c47:efa0:8452:c8ad:0 - \"GET /static/Images/1479.gif HTTP/1.1\" 200 OK\n",
            "INFO:     2409:4073:4e02:4f35:1c47:efa0:8452:c8ad:0 - \"GET /static/Images/cover.png HTTP/1.1\" 200 OK\n",
            "INFO:     2409:4073:4e02:4f35:1c47:efa0:8452:c8ad:0 - \"GET /favicon.ico HTTP/1.1\" 404 Not Found\n"
          ],
          "name": "stdout"
        },
        {
          "output_type": "stream",
          "text": [
            "Univariate Analysing: 100%|██████████| 6/6 [00:00<00:00, 92.23it/s]"
          ],
          "name": "stderr"
        },
        {
          "output_type": "stream",
          "text": [
            "Global Filedetail Processing\n",
            "Global Filedetail Fixed\n",
            "INFO:     2409:4073:4e02:4f35:1c47:efa0:8452:c8ad:0 - \"GET /testing HTTP/1.1\" 200 OK\n"
          ],
          "name": "stdout"
        },
        {
          "output_type": "stream",
          "text": [
            "\n"
          ],
          "name": "stderr"
        },
        {
          "output_type": "stream",
          "text": [
            "INFO:     2409:4073:4e02:4f35:1c47:efa0:8452:c8ad:0 - \"GET /static/js/main.js HTTP/1.1\" 200 OK\n",
            "INFO:     2409:4073:4e02:4f35:1c47:efa0:8452:c8ad:0 - \"GET /static/js/essential_chart.js HTTP/1.1\" 200 OK\n",
            "INFO:     2409:4073:4e02:4f35:1c47:efa0:8452:c8ad:0 - \"GET /static/Images/arrow-up-circle-fill.svg HTTP/1.1\" 200 OK\n",
            "INFO:     2409:4073:4e02:4f35:1c47:efa0:8452:c8ad:0 - \"GET /static/Images/logo.svg HTTP/1.1\" 200 OK\n"
          ],
          "name": "stdout"
        },
        {
          "output_type": "stream",
          "text": [
            "Univariate Analysing: 100%|██████████| 6/6 [00:00<00:00, 176.41it/s]"
          ],
          "name": "stderr"
        },
        {
          "output_type": "stream",
          "text": [
            "INFO:     2409:4073:4e02:4f35:1c47:efa0:8452:c8ad:0 - \"GET / HTTP/1.1\" 200 OK\n"
          ],
          "name": "stdout"
        },
        {
          "output_type": "stream",
          "text": [
            "\n",
            "Univariate Analysing: 100%|██████████| 6/6 [00:00<00:00, 148.68it/s]"
          ],
          "name": "stderr"
        },
        {
          "output_type": "stream",
          "text": [
            "Okag value\n",
            "finished\n",
            "INFO:     2409:4073:4e02:4f35:1c47:efa0:8452:c8ad:0 - \"GET /drop?data=value HTTP/1.1\" 200 OK\n"
          ],
          "name": "stdout"
        },
        {
          "output_type": "stream",
          "text": [
            "\n",
            "Univariate Analysing: 100%|██████████| 6/6 [00:00<00:00, 130.34it/s]"
          ],
          "name": "stderr"
        },
        {
          "output_type": "stream",
          "text": [
            "INFO:     2409:4073:4e02:4f35:1c47:efa0:8452:c8ad:0 - \"GET / HTTP/1.1\" 200 OK\n"
          ],
          "name": "stdout"
        },
        {
          "output_type": "stream",
          "text": [
            "\n"
          ],
          "name": "stderr"
        },
        {
          "output_type": "stream",
          "text": [
            "INFO:     2409:4073:4e02:4f35:1c47:efa0:8452:c8ad:0 - \"GET /static/Images/logo.svg HTTP/1.1\" 200 OK\n",
            "MPG set_numeric\n",
            "INFO:     2409:4073:4e02:4f35:1c47:efa0:8452:c8ad:0 - \"GET /action?column=MPG&action=set_numeric HTTP/1.1\" 200 OK\n",
            "INFO:     2409:4073:4e02:4f35:1c47:efa0:8452:c8ad:0 - \"GET /view HTTP/1.1\" 200 OK\n",
            "INFO:     2409:4073:4e02:4f35:1c47:efa0:8452:c8ad:0 - \"GET /static/js/main.js HTTP/1.1\" 304 Not Modified\n",
            "INFO:     2409:4073:4e02:4f35:1c47:efa0:8452:c8ad:0 - \"GET /static/js/essential_chart.js HTTP/1.1\" 304 Not Modified\n",
            "INFO:     2409:4073:4e02:4f35:1c47:efa0:8452:c8ad:0 - \"GET /static/css/style.css HTTP/1.1\" 304 Not Modified\n"
          ],
          "name": "stdout"
        },
        {
          "output_type": "stream",
          "text": [
            "Univariate Analysing: 100%|██████████| 6/6 [00:00<00:00, 143.06it/s]"
          ],
          "name": "stderr"
        },
        {
          "output_type": "stream",
          "text": [
            "INFO:     2409:4073:4e02:4f35:1c47:efa0:8452:c8ad:0 - \"GET /objcopyAnalysis HTTP/1.1\" 200 OK\n"
          ],
          "name": "stdout"
        },
        {
          "output_type": "stream",
          "text": [
            "\n"
          ],
          "name": "stderr"
        },
        {
          "output_type": "stream",
          "text": [
            "INFO:     2409:4073:4e02:4f35:1c47:efa0:8452:c8ad:0 - \"GET /static/Images/logo.svg HTTP/1.1\" 304 Not Modified\n",
            "INFO:     2409:4073:4e02:4f35:1c47:efa0:8452:c8ad:0 - \"GET /static/Images/arrow-up-circle-fill.svg HTTP/1.1\" 304 Not Modified\n",
            "INFO:     2409:4073:4e02:4f35:1c47:efa0:8452:c8ad:0 - \"GET /view HTTP/1.1\" 200 OK\n",
            "INFO:     2409:4073:4e02:4f35:1c47:efa0:8452:c8ad:0 - \"GET /static/js/main.js HTTP/1.1\" 304 Not Modified\n",
            "INFO:     2409:4073:4e02:4f35:1c47:efa0:8452:c8ad:0 - \"GET /static/js/essential_chart.js HTTP/1.1\" 304 Not Modified\n",
            "INFO:     2409:4073:4e02:4f35:1c47:efa0:8452:c8ad:0 - \"GET /static/css/style.css HTTP/1.1\" 304 Not Modified\n",
            "INFO:     2409:4073:4e02:4f35:1c47:efa0:8452:c8ad:0 - \"GET /static/Images/arrow-up-circle-fill.svg HTTP/1.1\" 304 Not Modified\n",
            "INFO:     2409:4073:4e02:4f35:1c47:efa0:8452:c8ad:0 - \"GET /static/Images/logo.svg HTTP/1.1\" 304 Not Modified\n"
          ],
          "name": "stdout"
        },
        {
          "output_type": "stream",
          "text": [
            "Univariate Analysing: 100%|██████████| 6/6 [00:00<00:00, 133.46it/s]"
          ],
          "name": "stderr"
        },
        {
          "output_type": "stream",
          "text": [
            "INFO:     2409:4073:4e02:4f35:1c47:efa0:8452:c8ad:0 - \"GET /objcopyAnalysis HTTP/1.1\" 200 OK\n"
          ],
          "name": "stdout"
        },
        {
          "output_type": "stream",
          "text": [
            "\n"
          ],
          "name": "stderr"
        },
        {
          "output_type": "stream",
          "text": [
            "Cylinders set_numeric\n",
            "INFO:     2409:4073:4e02:4f35:1c47:efa0:8452:c8ad:0 - \"GET /action?column=Cylinders&action=set_numeric HTTP/1.1\" 200 OK\n",
            "INFO:     2409:4073:4e02:4f35:1c47:efa0:8452:c8ad:0 - \"GET /view HTTP/1.1\" 200 OK\n"
          ],
          "name": "stdout"
        },
        {
          "output_type": "stream",
          "text": [
            "Univariate Analysing: 100%|██████████| 6/6 [00:00<00:00, 170.60it/s]"
          ],
          "name": "stderr"
        },
        {
          "output_type": "stream",
          "text": [
            "INFO:     2409:4073:4e02:4f35:1c47:efa0:8452:c8ad:0 - \"GET /objcopyAnalysis HTTP/1.1\" 200 OK\n"
          ],
          "name": "stdout"
        },
        {
          "output_type": "stream",
          "text": [
            "\n"
          ],
          "name": "stderr"
        },
        {
          "output_type": "stream",
          "text": [
            "Cylinders fillmissing_median\n",
            "INFO:     2409:4073:4e02:4f35:1c47:efa0:8452:c8ad:0 - \"GET /action?column=Cylinders&action=fillmissing_median HTTP/1.1\" 200 OK\n",
            "INFO:     2409:4073:4e02:4f35:1c47:efa0:8452:c8ad:0 - \"GET /view HTTP/1.1\" 200 OK\n",
            "INFO:     2409:4073:4e02:4f35:1c47:efa0:8452:c8ad:0 - \"GET /static/js/main.js HTTP/1.1\" 304 Not Modified\n",
            "INFO:     2409:4073:4e02:4f35:1c47:efa0:8452:c8ad:0 - \"GET /static/js/essential_chart.js HTTP/1.1\" 304 Not Modified\n",
            "INFO:     2409:4073:4e02:4f35:1c47:efa0:8452:c8ad:0 - \"GET /static/css/style.css HTTP/1.1\" 304 Not Modified\n",
            "INFO:     2409:4073:4e02:4f35:1c47:efa0:8452:c8ad:0 - \"GET /static/Images/arrow-up-circle-fill.svg HTTP/1.1\" 304 Not Modified\n",
            "INFO:     2409:4073:4e02:4f35:1c47:efa0:8452:c8ad:0 - \"GET /static/Images/logo.svg HTTP/1.1\" 304 Not Modified\n"
          ],
          "name": "stdout"
        },
        {
          "output_type": "stream",
          "text": [
            "Univariate Analysing: 100%|██████████| 6/6 [00:00<00:00, 126.90it/s]"
          ],
          "name": "stderr"
        },
        {
          "output_type": "stream",
          "text": [
            "INFO:     2409:4073:4e02:4f35:1c47:efa0:8452:c8ad:0 - \"GET /objcopyAnalysis HTTP/1.1\" 200 OK\n"
          ],
          "name": "stdout"
        },
        {
          "output_type": "stream",
          "text": [
            "\n",
            "INFO:     Shutting down\n",
            "INFO:     Waiting for application shutdown.\n",
            "INFO:     Application shutdown complete.\n",
            "INFO:     Finished server process [59]\n"
          ],
          "name": "stderr"
        }
      ]
    },
    {
      "cell_type": "code",
      "metadata": {
        "id": "P1EUxkXCnzh3"
      },
      "source": [
        ""
      ],
      "id": "P1EUxkXCnzh3",
      "execution_count": null,
      "outputs": []
    }
  ]
}
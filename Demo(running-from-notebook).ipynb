{
  "nbformat": 4,
  "nbformat_minor": 5,
  "metadata": {
    "kernelspec": {
      "name": "python395jvsc74a57bd03ceca350e8e19073432594fb908584560a1ca3713b54a32798c21cc428ed0074",
      "display_name": "Python 3.9.5 64-bit ('Project-Eda-sukngV1Q': pipenv)"
    },
    "language_info": {
      "codemirror_mode": {
        "name": "ipython",
        "version": 3
      },
      "file_extension": ".py",
      "mimetype": "text/x-python",
      "name": "python",
      "nbconvert_exporter": "python",
      "pygments_lexer": "ipython3",
      "version": "3.9.5"
    },
    "metadata": {
      "interpreter": {
        "hash": "3ceca350e8e19073432594fb908584560a1ca3713b54a32798c21cc428ed0074"
      }
    },
    "colab": {
      "name": "Demo(running-from-notebook).ipynb",
      "provenance": [],
      "include_colab_link": true
    }
  },
  "cells": [
    {
      "cell_type": "markdown",
      "metadata": {
        "id": "view-in-github",
        "colab_type": "text"
      },
      "source": [
        "<a href=\"https://colab.research.google.com/github/lkarjun/fastpreprocess/blob/master/Demo(running-from-notebook).ipynb\" target=\"_parent\"><img src=\"https://colab.research.google.com/assets/colab-badge.svg\" alt=\"Open In Colab\"/></a>"
      ]
    },
    {
      "cell_type": "markdown",
      "metadata": {
        "id": "nqlYEkHtuhuX"
      },
      "source": [
        "# Fastprocess"
      ],
      "id": "nqlYEkHtuhuX"
    },
    {
      "cell_type": "code",
      "metadata": {
        "id": "N3HVbkg0uitJ"
      },
      "source": [
        "!pip install git+https://github.com/lkarjun/fastpreprocess.git"
      ],
      "id": "N3HVbkg0uitJ",
      "execution_count": null,
      "outputs": []
    },
    {
      "cell_type": "markdown",
      "metadata": {
        "id": "YzBJ9zELnzhr"
      },
      "source": [
        "# Fasteda from a notebook"
      ],
      "id": "YzBJ9zELnzhr"
    },
    {
      "cell_type": "markdown",
      "metadata": {
        "id": "eu_TSi2unzhv"
      },
      "source": [
        "### Runing from a local notebook"
      ],
      "id": "eu_TSi2unzhv"
    },
    {
      "cell_type": "code",
      "metadata": {
        "id": "qO0VTnTQnzhv"
      },
      "source": [
        "from fastprocess.fastwork import run_from_notebook, start"
      ],
      "id": "qO0VTnTQnzhv",
      "execution_count": 11,
      "outputs": []
    },
    {
      "cell_type": "code",
      "metadata": {
        "id": "sF_rbc93nzhw"
      },
      "source": [
        "# path to the sample dataset\n",
        "path = 'https://raw.githubusercontent.com/lkarjun/fastpreprocess/master/fastprocess/static/car_sample.csv'"
      ],
      "id": "sF_rbc93nzhw",
      "execution_count": 12,
      "outputs": []
    },
    {
      "cell_type": "code",
      "metadata": {
        "id": "EECaylqFnzhx"
      },
      "source": [
        "# first we need to run the run_from_notebook()\n",
        "run_from_notebook()"
      ],
      "id": "EECaylqFnzhx",
      "execution_count": 13,
      "outputs": []
    },
    {
      "cell_type": "code",
      "metadata": {
        "id": "_-Osma4znzhx"
      },
      "source": [
        "# stat server\n",
        "start(path, dm=',', port=8000)"
      ],
      "id": "_-Osma4znzhx",
      "execution_count": null,
      "outputs": []
    },
    {
      "cell_type": "code",
      "metadata": {
        "id": "7su0vmxOnzhy"
      },
      "source": [
        ""
      ],
      "id": "7su0vmxOnzhy",
      "execution_count": null,
      "outputs": []
    },
    {
      "cell_type": "markdown",
      "metadata": {
        "id": "YGvYi3cknzhy"
      },
      "source": [
        "### Runing from a cloud notebook -> (colab)"
      ],
      "id": "YGvYi3cknzhy"
    },
    {
      "cell_type": "code",
      "metadata": {
        "id": "jTCUJdbinzhy"
      },
      "source": [
        "from fastprocess.fastwork import run_from_notebook, start_from_cloud"
      ],
      "id": "jTCUJdbinzhy",
      "execution_count": 5,
      "outputs": []
    },
    {
      "cell_type": "code",
      "metadata": {
        "id": "WaOKhXvYnzhz"
      },
      "source": [
        "# path to the sample dataset\n",
        "path = 'https://raw.githubusercontent.com/lkarjun/fastpreprocess/master/fastprocess/static/car_sample.csv'"
      ],
      "id": "WaOKhXvYnzhz",
      "execution_count": 8,
      "outputs": []
    },
    {
      "cell_type": "code",
      "metadata": {
        "id": "mXYIICtenzhz"
      },
      "source": [
        "# first we need to run the run_from_notebook()\n",
        "run_from_notebook()"
      ],
      "id": "mXYIICtenzhz",
      "execution_count": 9,
      "outputs": []
    },
    {
      "cell_type": "code",
      "metadata": {
        "colab": {
          "base_uri": "https://localhost:8080/"
        },
        "id": "QTYm56nUnzh0",
        "outputId": "12cdd0e0-a251-4ea7-ecbf-ac59a5ecdb42"
      },
      "source": [
        "start_from_cloud(filename = path, port=9000)"
      ],
      "id": "QTYm56nUnzh0",
      "execution_count": 10,
      "outputs": [
        {
          "output_type": "stream",
          "text": [
            "set_global_filedetail() missing 1 required positional argument: 'lowmem'\n"
          ],
          "name": "stdout"
        }
      ]
    },
    {
      "cell_type": "code",
      "metadata": {
        "id": "P1EUxkXCnzh3"
      },
      "source": [
        ""
      ],
      "id": "P1EUxkXCnzh3",
      "execution_count": null,
      "outputs": []
    }
  ]
}
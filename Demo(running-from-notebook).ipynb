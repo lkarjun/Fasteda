{
  "nbformat": 4,
  "nbformat_minor": 5,
  "metadata": {
    "kernelspec": {
      "name": "python395jvsc74a57bd03ceca350e8e19073432594fb908584560a1ca3713b54a32798c21cc428ed0074",
      "display_name": "Python 3.9.5 64-bit ('Project-Eda-sukngV1Q': pipenv)"
    },
    "language_info": {
      "codemirror_mode": {
        "name": "ipython",
        "version": 3
      },
      "file_extension": ".py",
      "mimetype": "text/x-python",
      "name": "python",
      "nbconvert_exporter": "python",
      "pygments_lexer": "ipython3",
      "version": "3.9.5"
    },
    "metadata": {
      "interpreter": {
        "hash": "3ceca350e8e19073432594fb908584560a1ca3713b54a32798c21cc428ed0074"
      }
    },
    "colab": {
      "name": "Demo(running-from-notebook).ipynb",
      "provenance": [],
      "include_colab_link": true
    }
  },
  "cells": [
    {
      "cell_type": "markdown",
      "metadata": {
        "id": "view-in-github",
        "colab_type": "text"
      },
      "source": [
        "<a href=\"https://colab.research.google.com/github/lkarjun/fastpreprocess/blob/master/Demo(running-from-notebook).ipynb\" target=\"_parent\"><img src=\"https://colab.research.google.com/assets/colab-badge.svg\" alt=\"Open In Colab\"/></a>"
      ]
    },
    {
      "cell_type": "markdown",
      "metadata": {
        "id": "nqlYEkHtuhuX"
      },
      "source": [
        "# Fastprocess"
      ],
      "id": "nqlYEkHtuhuX"
    },
    {
      "cell_type": "code",
      "metadata": {
        "id": "N3HVbkg0uitJ",
        "colab": {
          "base_uri": "https://localhost:8080/"
        },
        "outputId": "d7102abf-22c9-4581-8114-956f7f74f782"
      },
      "source": [
        "!pip install git+https://github.com/lkarjun/fastpreprocess.git"
      ],
      "id": "N3HVbkg0uitJ",
      "execution_count": 4,
      "outputs": [
        {
          "output_type": "stream",
          "text": [
            "Collecting git+https://github.com/lkarjun/fastpreprocess.git\n",
            "  Cloning https://github.com/lkarjun/fastpreprocess.git to /tmp/pip-req-build-2ys1vhii\n",
            "  Running command git clone -q https://github.com/lkarjun/fastpreprocess.git /tmp/pip-req-build-2ys1vhii\n",
            "  Installing build dependencies ... \u001b[?25l\u001b[?25hdone\n",
            "  Getting requirements to build wheel ... \u001b[?25l\u001b[?25hdone\n",
            "    Preparing wheel metadata ... \u001b[?25l\u001b[?25hdone\n",
            "Requirement already satisfied: numpy==1.20.3 in /usr/local/lib/python3.7/dist-packages (from fastprocess==0.1.2) (1.20.3)\n",
            "Requirement already satisfied: pyngrok==5.0.5 in /usr/local/lib/python3.7/dist-packages (from fastprocess==0.1.2) (5.0.5)\n",
            "Requirement already satisfied: jinja2==2.11.3 in /usr/local/lib/python3.7/dist-packages (from fastprocess==0.1.2) (2.11.3)\n",
            "Requirement already satisfied: tqdm==4.60.0 in /usr/local/lib/python3.7/dist-packages (from fastprocess==0.1.2) (4.60.0)\n",
            "Requirement already satisfied: uvicorn==0.13.4 in /usr/local/lib/python3.7/dist-packages (from fastprocess==0.1.2) (0.13.4)\n",
            "Requirement already satisfied: python-multipart in /usr/local/lib/python3.7/dist-packages (from fastprocess==0.1.2) (0.0.5)\n",
            "Requirement already satisfied: aiofiles==0.7.0 in /usr/local/lib/python3.7/dist-packages (from fastprocess==0.1.2) (0.7.0)\n",
            "Requirement already satisfied: fastapi==0.65.1 in /usr/local/lib/python3.7/dist-packages (from fastprocess==0.1.2) (0.65.1)\n",
            "Requirement already satisfied: pandas==1.2.4 in /usr/local/lib/python3.7/dist-packages (from fastprocess==0.1.2) (1.2.4)\n",
            "Requirement already satisfied: nest-asyncio==1.5.1 in /usr/local/lib/python3.7/dist-packages (from fastprocess==0.1.2) (1.5.1)\n",
            "Requirement already satisfied: httptools==0.2.0 in /usr/local/lib/python3.7/dist-packages (from fastprocess==0.1.2) (0.2.0)\n",
            "Requirement already satisfied: pydantic==1.8.2 in /usr/local/lib/python3.7/dist-packages (from fastprocess==0.1.2) (1.8.2)\n",
            "Requirement already satisfied: PyYAML in /usr/local/lib/python3.7/dist-packages (from pyngrok==5.0.5->fastprocess==0.1.2) (3.13)\n",
            "Requirement already satisfied: MarkupSafe>=0.23 in /usr/local/lib/python3.7/dist-packages (from jinja2==2.11.3->fastprocess==0.1.2) (2.0.1)\n",
            "Requirement already satisfied: h11>=0.8 in /usr/local/lib/python3.7/dist-packages (from uvicorn==0.13.4->fastprocess==0.1.2) (0.12.0)\n",
            "Requirement already satisfied: click==7.* in /usr/local/lib/python3.7/dist-packages (from uvicorn==0.13.4->fastprocess==0.1.2) (7.1.2)\n",
            "Requirement already satisfied: typing-extensions; python_version < \"3.8\" in /usr/local/lib/python3.7/dist-packages (from uvicorn==0.13.4->fastprocess==0.1.2) (3.7.4.3)\n",
            "Requirement already satisfied: six>=1.4.0 in /usr/local/lib/python3.7/dist-packages (from python-multipart->fastprocess==0.1.2) (1.15.0)\n",
            "Requirement already satisfied: starlette==0.14.2 in /usr/local/lib/python3.7/dist-packages (from fastapi==0.65.1->fastprocess==0.1.2) (0.14.2)\n",
            "Requirement already satisfied: python-dateutil>=2.7.3 in /usr/local/lib/python3.7/dist-packages (from pandas==1.2.4->fastprocess==0.1.2) (2.8.1)\n",
            "Requirement already satisfied: pytz>=2017.3 in /usr/local/lib/python3.7/dist-packages (from pandas==1.2.4->fastprocess==0.1.2) (2018.9)\n",
            "Building wheels for collected packages: fastprocess\n",
            "  Building wheel for fastprocess (PEP 517) ... \u001b[?25l\u001b[?25hdone\n",
            "  Created wheel for fastprocess: filename=fastprocess-0.1.2-cp37-none-any.whl size=568789 sha256=96d75bcbcaeec75b225bfd57b1ed4014c5284665beae4bd6c97f5939a9b0c476\n",
            "  Stored in directory: /tmp/pip-ephem-wheel-cache-twrqazqe/wheels/66/9c/36/bbcd4b146510308b8b2e9f2c540ad446ff1d0e3e750e30b7f8\n",
            "Successfully built fastprocess\n",
            "Installing collected packages: fastprocess\n",
            "Successfully installed fastprocess-0.1.2\n"
          ],
          "name": "stdout"
        }
      ]
    },
    {
      "cell_type": "markdown",
      "metadata": {
        "id": "YzBJ9zELnzhr"
      },
      "source": [
        "# Fasteda from a notebook"
      ],
      "id": "YzBJ9zELnzhr"
    },
    {
      "cell_type": "markdown",
      "metadata": {
        "id": "eu_TSi2unzhv"
      },
      "source": [
        "### Runing from a local notebook"
      ],
      "id": "eu_TSi2unzhv"
    },
    {
      "cell_type": "code",
      "metadata": {
        "id": "qO0VTnTQnzhv"
      },
      "source": [
        "from fastprocess.fastwork import run_from_notebook, start"
      ],
      "id": "qO0VTnTQnzhv",
      "execution_count": 1,
      "outputs": []
    },
    {
      "cell_type": "code",
      "metadata": {
        "id": "sF_rbc93nzhw"
      },
      "source": [
        "# path to the sample dataset\n",
        "path = 'https://raw.githubusercontent.com/lkarjun/fastpreprocess/master/fastprocess/static/car_sample.csv'"
      ],
      "id": "sF_rbc93nzhw",
      "execution_count": 2,
      "outputs": []
    },
    {
      "cell_type": "code",
      "metadata": {
        "id": "EECaylqFnzhx"
      },
      "source": [
        "# first we need to run the run_from_notebook()\n",
        "run_from_notebook()"
      ],
      "id": "EECaylqFnzhx",
      "execution_count": 3,
      "outputs": []
    },
    {
      "cell_type": "code",
      "metadata": {
        "colab": {
          "base_uri": "https://localhost:8080/"
        },
        "id": "_-Osma4znzhx",
        "outputId": "a87ea094-ea6e-4ad3-8b1a-d0160fce3c3e"
      },
      "source": [
        "# stat server\n",
        "start(path, dm=',', port=8000)"
      ],
      "id": "_-Osma4znzhx",
      "execution_count": 4,
      "outputs": [
        {
          "output_type": "stream",
          "text": [
            "Analysing: 100%|██████████| 6/6 [00:00<00:00, 101.13it/s]\n",
            "INFO:     Started server process [570]\n",
            "INFO:     Waiting for application startup.\n",
            "INFO:     Application startup complete.\n",
            "INFO:     Uvicorn running on http://127.0.0.1:8000 (Press CTRL+C to quit)\n"
          ],
          "name": "stderr"
        },
        {
          "output_type": "stream",
          "text": [
            "\n",
            "\u001b[93mVisit: http://127.0.0.1:8000\u001b[0m\n",
            "\n",
            "Global Filedetail Processing\n",
            "Global Filedetail Fixed\n"
          ],
          "name": "stdout"
        }
      ]
    },
    {
      "cell_type": "markdown",
      "metadata": {
        "id": "YGvYi3cknzhy"
      },
      "source": [
        "### Runing from a cloud notebook -> (colab)"
      ],
      "id": "YGvYi3cknzhy"
    },
    {
      "cell_type": "code",
      "metadata": {
        "id": "jTCUJdbinzhy"
      },
      "source": [
        "from fastprocess.fastwork import run_from_notebook, start_from_cloud"
      ],
      "id": "jTCUJdbinzhy",
      "execution_count": 1,
      "outputs": []
    },
    {
      "cell_type": "code",
      "metadata": {
        "id": "WaOKhXvYnzhz"
      },
      "source": [
        "# path to the sample dataset\n",
        "path = 'https://raw.githubusercontent.com/lkarjun/fastpreprocess/master/fastprocess/static/car_sample.csv'"
      ],
      "id": "WaOKhXvYnzhz",
      "execution_count": 2,
      "outputs": []
    },
    {
      "cell_type": "code",
      "metadata": {
        "id": "mXYIICtenzhz"
      },
      "source": [
        "# first we need to run the run_from_notebook()\n",
        "run_from_notebook()"
      ],
      "id": "mXYIICtenzhz",
      "execution_count": 3,
      "outputs": []
    },
    {
      "cell_type": "code",
      "metadata": {
        "colab": {
          "base_uri": "https://localhost:8080/"
        },
        "id": "QTYm56nUnzh0",
        "outputId": "b7774ea2-4c21-4561-ca6c-7adcaf1b343f"
      },
      "source": [
        "start_from_cloud(filename = path, port=9000)"
      ],
      "id": "QTYm56nUnzh0",
      "execution_count": 4,
      "outputs": [
        {
          "output_type": "stream",
          "text": [
            "INFO:     Shutting down\n",
            "INFO:     Waiting for application shutdown.\n",
            "INFO:     Application shutdown complete.\n",
            "INFO:     Finished server process [820]\n"
          ],
          "name": "stderr"
        }
      ]
    },
    {
      "cell_type": "code",
      "metadata": {
        "id": "P1EUxkXCnzh3"
      },
      "source": [
        ""
      ],
      "id": "P1EUxkXCnzh3",
      "execution_count": null,
      "outputs": []
    }
  ]
}
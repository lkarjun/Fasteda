{
  "nbformat": 4,
  "nbformat_minor": 5,
  "metadata": {
    "kernelspec": {
      "name": "python395jvsc74a57bd03ceca350e8e19073432594fb908584560a1ca3713b54a32798c21cc428ed0074",
      "display_name": "Python 3.9.5 64-bit ('Project-Eda-sukngV1Q': pipenv)"
    },
    "language_info": {
      "codemirror_mode": {
        "name": "ipython",
        "version": 3
      },
      "file_extension": ".py",
      "mimetype": "text/x-python",
      "name": "python",
      "nbconvert_exporter": "python",
      "pygments_lexer": "ipython3",
      "version": "3.9.5"
    },
    "metadata": {
      "interpreter": {
        "hash": "3ceca350e8e19073432594fb908584560a1ca3713b54a32798c21cc428ed0074"
      }
    },
    "colab": {
      "name": "Demo(running-from-notebook).ipynb",
      "provenance": [],
      "include_colab_link": true
    }
  },
  "cells": [
    {
      "cell_type": "markdown",
      "metadata": {
        "id": "view-in-github",
        "colab_type": "text"
      },
      "source": [
        "<a href=\"https://colab.research.google.com/github/lkarjun/fastpreprocess/blob/master/Demo(running-from-notebook).ipynb\" target=\"_parent\"><img src=\"https://colab.research.google.com/assets/colab-badge.svg\" alt=\"Open In Colab\"/></a>"
      ]
    },
    {
      "cell_type": "markdown",
      "metadata": {
        "id": "nqlYEkHtuhuX"
      },
      "source": [
        "# Fastprocess"
      ],
      "id": "nqlYEkHtuhuX"
    },
    {
      "cell_type": "code",
      "metadata": {
        "id": "N3HVbkg0uitJ"
      },
      "source": [
        "!pip install fastpreprocess"
      ],
      "id": "N3HVbkg0uitJ",
      "execution_count": null,
      "outputs": []
    },
    {
      "cell_type": "markdown",
      "metadata": {
        "id": "YzBJ9zELnzhr"
      },
      "source": [
        "# Fasteda from a notebook"
      ],
      "id": "YzBJ9zELnzhr"
    },
    {
      "cell_type": "code",
      "metadata": {
        "id": "qMID3CvFEiC9",
        "outputId": "c81de51a-e968-4048-85b5-8cb32a9a35ab",
        "colab": {
          "base_uri": "https://localhost:8080/"
        }
      },
      "source": [
        "!fp -fn 'https://raw.githubusercontent.com/lkarjun/fastpreprocess/master/fastprocess/static/car_sample.csv' -dm ',' -c true"
      ],
      "id": "qMID3CvFEiC9",
      "execution_count": 1,
      "outputs": [
        {
          "output_type": "stream",
          "text": [
            "Global Filedetail Processing\n",
            "Analysing: 100% 6/6 [00:00<00:00, 101.55it/s]\n",
            "Global Filedetail Fixed\n",
            "\n",
            "\u001b[93mVisit: http://fcd26d37539d.ngrok.io\u001b[0m\n",
            "\n",
            "\u001b[32mINFO\u001b[0m:     Started server process [\u001b[36m187\u001b[0m]\n",
            "\u001b[32mINFO\u001b[0m:     Waiting for application startup.\n",
            "\u001b[32mINFO\u001b[0m:     Application startup complete.\n",
            "\u001b[32mINFO\u001b[0m:     Uvicorn running on \u001b[1mhttp://127.0.0.1:8000\u001b[0m (Press CTRL+C to quit)\n",
            "\u001b[32mINFO\u001b[0m:     2409:4073:413:f9aa:94d7:4d19:a6d1:c2d:0 - \"\u001b[1mGET / HTTP/1.1\u001b[0m\" \u001b[32m200 OK\u001b[0m\n",
            "\u001b[32mINFO\u001b[0m:     2409:4073:413:f9aa:94d7:4d19:a6d1:c2d:0 - \"\u001b[1mGET /static/main.js HTTP/1.1\u001b[0m\" \u001b[32m200 OK\u001b[0m\n",
            "\u001b[32mINFO\u001b[0m:     2409:4073:413:f9aa:94d7:4d19:a6d1:c2d:0 - \"\u001b[1mGET /static/essential_chart.js HTTP/1.1\u001b[0m\" \u001b[32m200 OK\u001b[0m\n",
            "\u001b[32mINFO\u001b[0m:     2409:4073:413:f9aa:94d7:4d19:a6d1:c2d:0 - \"\u001b[1mGET /static/style.css HTTP/1.1\u001b[0m\" \u001b[32m200 OK\u001b[0m\n",
            "\u001b[32mINFO\u001b[0m:     2409:4073:413:f9aa:94d7:4d19:a6d1:c2d:0 - \"\u001b[1mGET /static/menu-outline.svg HTTP/1.1\u001b[0m\" \u001b[32m200 OK\u001b[0m\n",
            "\u001b[32mINFO\u001b[0m:     2409:4073:413:f9aa:94d7:4d19:a6d1:c2d:0 - \"\u001b[1mGET /static/arrow-up-circle-fill.svg HTTP/1.1\u001b[0m\" \u001b[32m200 OK\u001b[0m\n",
            "\u001b[32mINFO\u001b[0m:     2409:4073:413:f9aa:94d7:4d19:a6d1:c2d:0 - \"\u001b[1mGET /static/logo.png HTTP/1.1\u001b[0m\" \u001b[32m200 OK\u001b[0m\n",
            "Okag value\n",
            "Analysing: 100% 6/6 [00:00<00:00, 161.79it/s]\n",
            "finished\n",
            "\u001b[32mINFO\u001b[0m:     2409:4073:413:f9aa:94d7:4d19:a6d1:c2d:0 - \"\u001b[1mGET /drop?data=value HTTP/1.1\u001b[0m\" \u001b[32m200 OK\u001b[0m\n",
            "\u001b[32mINFO\u001b[0m:     2409:4073:413:f9aa:94d7:4d19:a6d1:c2d:0 - \"\u001b[1mGET / HTTP/1.1\u001b[0m\" \u001b[32m200 OK\u001b[0m\n",
            "\u001b[32mINFO\u001b[0m:     2409:4073:413:f9aa:94d7:4d19:a6d1:c2d:0 - \"\u001b[1mGET /static/arrow-up-circle-fill.svg HTTP/1.1\u001b[0m\" \u001b[33m304 Not Modified\u001b[0m\n",
            "\u001b[32mINFO\u001b[0m:     2409:4073:413:f9aa:94d7:4d19:a6d1:c2d:0 - \"\u001b[1mGET /static/logo.png HTTP/1.1\u001b[0m\" \u001b[32m200 OK\u001b[0m\n",
            "Origin get_dummy\n",
            "\u001b[32mINFO\u001b[0m:     2409:4073:413:f9aa:94d7:4d19:a6d1:c2d:0 - \"\u001b[1mGET /action?column=Origin&action=get_dummy HTTP/1.1\u001b[0m\" \u001b[32m200 OK\u001b[0m\n",
            "\u001b[32mINFO\u001b[0m:     2409:4073:413:f9aa:94d7:4d19:a6d1:c2d:0 - \"\u001b[1mGET /view HTTP/1.1\u001b[0m\" \u001b[32m200 OK\u001b[0m\n",
            "\u001b[32mINFO\u001b[0m:     2409:4073:413:f9aa:94d7:4d19:a6d1:c2d:0 - \"\u001b[1mGET /static/main.js HTTP/1.1\u001b[0m\" \u001b[33m304 Not Modified\u001b[0m\n",
            "\u001b[32mINFO\u001b[0m:     2409:4073:413:f9aa:94d7:4d19:a6d1:c2d:0 - \"\u001b[1mGET /static/essential_chart.js HTTP/1.1\u001b[0m\" \u001b[33m304 Not Modified\u001b[0m\n",
            "\u001b[32mINFO\u001b[0m:     2409:4073:413:f9aa:94d7:4d19:a6d1:c2d:0 - \"\u001b[1mGET /static/style.css HTTP/1.1\u001b[0m\" \u001b[33m304 Not Modified\u001b[0m\n",
            "\u001b[32mINFO\u001b[0m:     2409:4073:413:f9aa:94d7:4d19:a6d1:c2d:0 - \"\u001b[1mGET /static/menu-outline.svg HTTP/1.1\u001b[0m\" \u001b[33m304 Not Modified\u001b[0m\n",
            "\u001b[32mINFO\u001b[0m:     2409:4073:413:f9aa:94d7:4d19:a6d1:c2d:0 - \"\u001b[1mGET /save HTTP/1.1\u001b[0m\" \u001b[32m200 OK\u001b[0m\n",
            "\u001b[32mINFO\u001b[0m:     Shutting down\n",
            "\u001b[32mINFO\u001b[0m:     Finished server process [\u001b[36m187\u001b[0m]\n"
          ],
          "name": "stdout"
        }
      ]
    },
    {
      "cell_type": "markdown",
      "metadata": {
        "id": "zHgsTrzLE49V"
      },
      "source": [
        "## Or"
      ],
      "id": "zHgsTrzLE49V"
    },
    {
      "cell_type": "markdown",
      "metadata": {
        "id": "eu_TSi2unzhv"
      },
      "source": [
        "### Runing from a local notebook"
      ],
      "id": "eu_TSi2unzhv"
    },
    {
      "cell_type": "code",
      "metadata": {
        "id": "qO0VTnTQnzhv"
      },
      "source": [
        "from fastprocess.fastwork import run_from_notebook, start"
      ],
      "id": "qO0VTnTQnzhv",
      "execution_count": null,
      "outputs": []
    },
    {
      "cell_type": "code",
      "metadata": {
        "id": "sF_rbc93nzhw"
      },
      "source": [
        "# path to the sample dataset\n",
        "path = 'https://raw.githubusercontent.com/lkarjun/fastpreprocess/master/fastprocess/static/car_sample.csv'"
      ],
      "id": "sF_rbc93nzhw",
      "execution_count": null,
      "outputs": []
    },
    {
      "cell_type": "code",
      "metadata": {
        "id": "EECaylqFnzhx"
      },
      "source": [
        "# first we need to run the run_from_notebook()\n",
        "run_from_notebook()"
      ],
      "id": "EECaylqFnzhx",
      "execution_count": null,
      "outputs": []
    },
    {
      "cell_type": "code",
      "metadata": {
        "colab": {
          "base_uri": "https://localhost:8080/"
        },
        "id": "_-Osma4znzhx",
        "outputId": "a87ea094-ea6e-4ad3-8b1a-d0160fce3c3e"
      },
      "source": [
        "# stat server\n",
        "start(path, dm=',', port=8000)"
      ],
      "id": "_-Osma4znzhx",
      "execution_count": null,
      "outputs": [
        {
          "output_type": "stream",
          "text": [
            "Analysing: 100%|██████████| 6/6 [00:00<00:00, 101.13it/s]\n",
            "INFO:     Started server process [570]\n",
            "INFO:     Waiting for application startup.\n",
            "INFO:     Application startup complete.\n",
            "INFO:     Uvicorn running on http://127.0.0.1:8000 (Press CTRL+C to quit)\n"
          ],
          "name": "stderr"
        },
        {
          "output_type": "stream",
          "text": [
            "\n",
            "\u001b[93mVisit: http://127.0.0.1:8000\u001b[0m\n",
            "\n",
            "Global Filedetail Processing\n",
            "Global Filedetail Fixed\n"
          ],
          "name": "stdout"
        }
      ]
    },
    {
      "cell_type": "markdown",
      "metadata": {
        "id": "YGvYi3cknzhy"
      },
      "source": [
        "### Runing from a cloud notebook -> (colab)"
      ],
      "id": "YGvYi3cknzhy"
    },
    {
      "cell_type": "code",
      "metadata": {
        "id": "jTCUJdbinzhy"
      },
      "source": [
        "from fastprocess.fastwork import run_from_notebook, start_from_cloud"
      ],
      "id": "jTCUJdbinzhy",
      "execution_count": null,
      "outputs": []
    },
    {
      "cell_type": "code",
      "metadata": {
        "id": "WaOKhXvYnzhz"
      },
      "source": [
        "# path to the sample dataset\n",
        "path = 'https://raw.githubusercontent.com/lkarjun/fastpreprocess/master/fastprocess/static/car_sample.csv'"
      ],
      "id": "WaOKhXvYnzhz",
      "execution_count": null,
      "outputs": []
    },
    {
      "cell_type": "code",
      "metadata": {
        "id": "mXYIICtenzhz"
      },
      "source": [
        "# first we need to run the run_from_notebook()\n",
        "run_from_notebook()"
      ],
      "id": "mXYIICtenzhz",
      "execution_count": null,
      "outputs": []
    },
    {
      "cell_type": "code",
      "metadata": {
        "colab": {
          "base_uri": "https://localhost:8080/"
        },
        "id": "QTYm56nUnzh0",
        "outputId": "b7774ea2-4c21-4561-ca6c-7adcaf1b343f"
      },
      "source": [
        "start_from_cloud(filename = path, port=9000)"
      ],
      "id": "QTYm56nUnzh0",
      "execution_count": null,
      "outputs": [
        {
          "output_type": "stream",
          "text": [
            "INFO:     Shutting down\n",
            "INFO:     Waiting for application shutdown.\n",
            "INFO:     Application shutdown complete.\n",
            "INFO:     Finished server process [820]\n"
          ],
          "name": "stderr"
        }
      ]
    },
    {
      "cell_type": "code",
      "metadata": {
        "id": "P1EUxkXCnzh3"
      },
      "source": [
        ""
      ],
      "id": "P1EUxkXCnzh3",
      "execution_count": null,
      "outputs": []
    }
  ]
}
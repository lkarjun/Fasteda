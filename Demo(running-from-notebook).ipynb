{
  "nbformat": 4,
  "nbformat_minor": 5,
  "metadata": {
    "kernelspec": {
      "name": "python395jvsc74a57bd03ceca350e8e19073432594fb908584560a1ca3713b54a32798c21cc428ed0074",
      "display_name": "Python 3.9.5 64-bit ('Project-Eda-sukngV1Q': pipenv)"
    },
    "language_info": {
      "codemirror_mode": {
        "name": "ipython",
        "version": 3
      },
      "file_extension": ".py",
      "mimetype": "text/x-python",
      "name": "python",
      "nbconvert_exporter": "python",
      "pygments_lexer": "ipython3",
      "version": "3.9.5"
    },
    "metadata": {
      "interpreter": {
        "hash": "3ceca350e8e19073432594fb908584560a1ca3713b54a32798c21cc428ed0074"
      }
    },
    "colab": {
      "name": "Demo(running-from-notebook).ipynb",
      "provenance": [],
      "include_colab_link": true
    }
  },
  "cells": [
    {
      "cell_type": "markdown",
      "metadata": {
        "id": "view-in-github",
        "colab_type": "text"
      },
      "source": [
        "<a href=\"https://colab.research.google.com/github/lkarjun/fasteda/blob/package/Demo(running-from-notebook).ipynb\" target=\"_parent\"><img src=\"https://colab.research.google.com/assets/colab-badge.svg\" alt=\"Open In Colab\"/></a>"
      ]
    },
    {
      "cell_type": "code",
      "metadata": {
        "id": "ABxXfXvVn1fF",
        "outputId": "4bddaa68-4f1c-47a8-c272-1fecc644eb09",
        "colab": {
          "base_uri": "https://localhost:8080/"
        }
      },
      "source": [
        "!git clone -b package https://github.com/lkarjun/fasteda.git"
      ],
      "id": "ABxXfXvVn1fF",
      "execution_count": 10,
      "outputs": [
        {
          "output_type": "stream",
          "text": [
            "Cloning into 'fasteda'...\n",
            "remote: Enumerating objects: 866, done.\u001b[K\n",
            "remote: Counting objects: 100% (866/866), done.\u001b[K\n",
            "remote: Compressing objects: 100% (460/460), done.\u001b[K\n",
            "remote: Total 866 (delta 498), reused 738 (delta 380), pack-reused 0\u001b[K\n",
            "Receiving objects: 100% (866/866), 3.15 MiB | 15.98 MiB/s, done.\n",
            "Resolving deltas: 100% (498/498), done.\n"
          ],
          "name": "stdout"
        }
      ]
    },
    {
      "cell_type": "code",
      "metadata": {
        "id": "SL1oMxNcunyy"
      },
      "source": [
        "import shutil\n",
        "shutil.move(\"fasteda/Fasteda\", \"content/Fasteda\")"
      ],
      "id": "SL1oMxNcunyy",
      "execution_count": null,
      "outputs": []
    },
    {
      "cell_type": "code",
      "metadata": {
        "id": "N3HVbkg0uitJ"
      },
      "source": [
        "# !pip install -r requirements.txt"
      ],
      "id": "N3HVbkg0uitJ",
      "execution_count": null,
      "outputs": []
    },
    {
      "cell_type": "markdown",
      "metadata": {
        "id": "YzBJ9zELnzhr"
      },
      "source": [
        "# Fasteda from a notebook"
      ],
      "id": "YzBJ9zELnzhr"
    },
    {
      "cell_type": "markdown",
      "metadata": {
        "id": "eu_TSi2unzhv"
      },
      "source": [
        "### Runing from a local notebook"
      ],
      "id": "eu_TSi2unzhv"
    },
    {
      "cell_type": "code",
      "metadata": {
        "id": "qO0VTnTQnzhv"
      },
      "source": [
        "from Fasteda.fastwork import run_from_notebook, start"
      ],
      "id": "qO0VTnTQnzhv",
      "execution_count": 6,
      "outputs": []
    },
    {
      "cell_type": "code",
      "metadata": {
        "id": "sF_rbc93nzhw"
      },
      "source": [
        "# path to the sample dataset\n",
        "path = 'Fasteda/static/dataset/sample.csv'"
      ],
      "id": "sF_rbc93nzhw",
      "execution_count": 7,
      "outputs": []
    },
    {
      "cell_type": "code",
      "metadata": {
        "id": "EECaylqFnzhx"
      },
      "source": [
        "# first we need to run the run_from_notebook()\n",
        "run_from_notebook()"
      ],
      "id": "EECaylqFnzhx",
      "execution_count": 8,
      "outputs": []
    },
    {
      "cell_type": "code",
      "metadata": {
        "id": "_-Osma4znzhx",
        "outputId": "2f521bf6-7a2b-4544-de1b-95240649bdb4",
        "colab": {
          "base_uri": "https://localhost:8080/"
        }
      },
      "source": [
        "# stat server\n",
        "start(path, dm=',', port=8000)"
      ],
      "id": "_-Osma4znzhx",
      "execution_count": 9,
      "outputs": [
        {
          "output_type": "stream",
          "text": [
            "Visit: http://127.0.0.1:8000\n",
            "Global Filedetail seting\n",
            "Global Filedetail seted\n"
          ],
          "name": "stdout"
        },
        {
          "output_type": "stream",
          "text": [
            "INFO:     Started server process [356]\n",
            "INFO:     Waiting for application startup.\n",
            "INFO:     Application startup complete.\n",
            "INFO:     Uvicorn running on http://127.0.0.1:8000 (Press CTRL+C to quit)\n",
            "INFO:     Shutting down\n",
            "INFO:     Waiting for application shutdown.\n",
            "INFO:     Application shutdown complete.\n",
            "INFO:     Finished server process [356]\n"
          ],
          "name": "stderr"
        }
      ]
    },
    {
      "cell_type": "code",
      "metadata": {
        "id": "7su0vmxOnzhy"
      },
      "source": [
        ""
      ],
      "id": "7su0vmxOnzhy",
      "execution_count": null,
      "outputs": []
    },
    {
      "cell_type": "markdown",
      "metadata": {
        "id": "YGvYi3cknzhy"
      },
      "source": [
        "### Runing from a cloud notebook -> (colab)"
      ],
      "id": "YGvYi3cknzhy"
    },
    {
      "cell_type": "code",
      "metadata": {
        "id": "jTCUJdbinzhy"
      },
      "source": [
        "from Fasteda.fastwork import run_from_notebook, start_from_cloud"
      ],
      "id": "jTCUJdbinzhy",
      "execution_count": 1,
      "outputs": []
    },
    {
      "cell_type": "code",
      "metadata": {
        "id": "WaOKhXvYnzhz"
      },
      "source": [
        "# path to the sample dataset\n",
        "path = 'Fasteda/static/dataset/car_sample.csv'"
      ],
      "id": "WaOKhXvYnzhz",
      "execution_count": 2,
      "outputs": []
    },
    {
      "cell_type": "code",
      "metadata": {
        "id": "mXYIICtenzhz"
      },
      "source": [
        "# first we need to run the run_from_notebook()\n",
        "run_from_notebook()"
      ],
      "id": "mXYIICtenzhz",
      "execution_count": 3,
      "outputs": []
    },
    {
      "cell_type": "code",
      "metadata": {
        "id": "QTYm56nUnzh0",
        "outputId": "36e4311d-edcd-4760-9087-5501971c0a38",
        "colab": {
          "base_uri": "https://localhost:8080/"
        }
      },
      "source": [
        "start_from_cloud(port=9000)"
      ],
      "id": "QTYm56nUnzh0",
      "execution_count": 5,
      "outputs": [
        {
          "output_type": "stream",
          "text": [
            "Visit: http://bee34595d3a5.ngrok.io/index\n"
          ],
          "name": "stdout"
        },
        {
          "output_type": "stream",
          "text": [
            "INFO:     Started server process [356]\n",
            "INFO:     Waiting for application startup.\n",
            "INFO:     Application startup complete.\n",
            "INFO:     Uvicorn running on http://127.0.0.1:9000 (Press CTRL+C to quit)\n"
          ],
          "name": "stderr"
        },
        {
          "output_type": "stream",
          "text": [
            "INFO:     2409:4073:4e02:4f35:a158:d623:b780:f4c0:0 - \"GET /index HTTP/1.1\" 200 OK\n",
            "INFO:     2409:4073:4e02:4f35:a158:d623:b780:f4c0:0 - \"GET /static/css/style.css HTTP/1.1\" 200 OK\n",
            "INFO:     2409:4073:4e02:4f35:a158:d623:b780:f4c0:0 - \"GET /static/Images/1479.gif HTTP/1.1\" 200 OK\n",
            "INFO:     2409:4073:4e02:4f35:a158:d623:b780:f4c0:0 - \"GET /static/Images/cover.png HTTP/1.1\" 200 OK\n",
            "INFO:     2409:4073:4e02:4f35:a158:d623:b780:f4c0:0 - \"GET /favicon.ico HTTP/1.1\" 404 Not Found\n",
            "Global Filedetail seting\n",
            "Global Filedetail seted\n",
            "INFO:     2409:4073:4e02:4f35:a158:d623:b780:f4c0:0 - \"POST /edafileupload HTTP/1.1\" 200 OK\n"
          ],
          "name": "stdout"
        },
        {
          "output_type": "stream",
          "text": [
            "Univariate Analysing: 100%|██████████| 13/13 [00:00<00:00, 55.34it/s]\n"
          ],
          "name": "stderr"
        },
        {
          "output_type": "stream",
          "text": [
            "INFO:     2409:4073:4e02:4f35:a158:d623:b780:f4c0:0 - \"GET / HTTP/1.1\" 200 OK\n",
            "INFO:     2409:4073:4e02:4f35:a158:d623:b780:f4c0:0 - \"GET /static/js/main.js HTTP/1.1\" 200 OK\n",
            "INFO:     2409:4073:4e02:4f35:a158:d623:b780:f4c0:0 - \"GET /static/js/essential_chart.js HTTP/1.1\" 200 OK\n",
            "INFO:     2409:4073:4e02:4f35:a158:d623:b780:f4c0:0 - \"GET /static/Images/logo.svg HTTP/1.1\" 200 OK\n",
            "INFO:     2409:4073:4e02:4f35:a158:d623:b780:f4c0:0 - \"GET /static/Images/arrow-up-circle-fill.svg HTTP/1.1\" 200 OK\n"
          ],
          "name": "stdout"
        },
        {
          "output_type": "stream",
          "text": [
            "INFO:     Shutting down\n",
            "INFO:     Waiting for application shutdown.\n",
            "INFO:     Application shutdown complete.\n",
            "INFO:     Finished server process [356]\n"
          ],
          "name": "stderr"
        }
      ]
    },
    {
      "cell_type": "code",
      "metadata": {
        "id": "P1EUxkXCnzh3"
      },
      "source": [
        ""
      ],
      "id": "P1EUxkXCnzh3",
      "execution_count": null,
      "outputs": []
    }
  ]
}